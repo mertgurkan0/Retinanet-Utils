{
 "cells": [
  {
   "cell_type": "markdown",
   "metadata": {},
   "source": [
    "### Notebook for Path Fixing\n",
    "\n",
    "Since the environment that we are working with changed, image paths should change too.\n",
    "This notebook fixes it."
   ]
  },
  {
   "cell_type": "code",
   "execution_count": 1,
   "metadata": {},
   "outputs": [],
   "source": [
    "import pandas as pd\n",
    "import os"
   ]
  },
  {
   "cell_type": "code",
   "execution_count": 13,
   "metadata": {},
   "outputs": [],
   "source": [
    "train = pd.read_csv('vedai-formatted-annotations-train.csv', header=None)\n",
    "val = pd.read_csv('vedai-formatted-annotations-val.csv', header=None)"
   ]
  },
  {
   "cell_type": "code",
   "execution_count": 14,
   "metadata": {},
   "outputs": [
    {
     "data": {
      "text/html": [
       "<div>\n",
       "<style scoped>\n",
       "    .dataframe tbody tr th:only-of-type {\n",
       "        vertical-align: middle;\n",
       "    }\n",
       "\n",
       "    .dataframe tbody tr th {\n",
       "        vertical-align: top;\n",
       "    }\n",
       "\n",
       "    .dataframe thead th {\n",
       "        text-align: right;\n",
       "    }\n",
       "</style>\n",
       "<table border=\"1\" class=\"dataframe\">\n",
       "  <thead>\n",
       "    <tr style=\"text-align: right;\">\n",
       "      <th></th>\n",
       "      <th>0</th>\n",
       "      <th>1</th>\n",
       "      <th>2</th>\n",
       "      <th>3</th>\n",
       "      <th>4</th>\n",
       "      <th>5</th>\n",
       "    </tr>\n",
       "  </thead>\n",
       "  <tbody>\n",
       "    <tr>\n",
       "      <th>0</th>\n",
       "      <td>/content/drive/My Drive/Test Images/Vehicules5...</td>\n",
       "      <td>277</td>\n",
       "      <td>498</td>\n",
       "      <td>304</td>\n",
       "      <td>511</td>\n",
       "      <td>truck</td>\n",
       "    </tr>\n",
       "    <tr>\n",
       "      <th>1</th>\n",
       "      <td>/content/drive/My Drive/Test Images/Vehicules5...</td>\n",
       "      <td>163</td>\n",
       "      <td>403</td>\n",
       "      <td>182</td>\n",
       "      <td>410</td>\n",
       "      <td>car</td>\n",
       "    </tr>\n",
       "    <tr>\n",
       "      <th>2</th>\n",
       "      <td>/content/drive/My Drive/Test Images/Vehicules5...</td>\n",
       "      <td>195</td>\n",
       "      <td>402</td>\n",
       "      <td>218</td>\n",
       "      <td>410</td>\n",
       "      <td>van</td>\n",
       "    </tr>\n",
       "    <tr>\n",
       "      <th>3</th>\n",
       "      <td>/content/drive/My Drive/Test Images/Vehicules5...</td>\n",
       "      <td>297</td>\n",
       "      <td>413</td>\n",
       "      <td>310</td>\n",
       "      <td>434</td>\n",
       "      <td>camping car</td>\n",
       "    </tr>\n",
       "    <tr>\n",
       "      <th>4</th>\n",
       "      <td>/content/drive/My Drive/Test Images/Vehicules5...</td>\n",
       "      <td>420</td>\n",
       "      <td>440</td>\n",
       "      <td>458</td>\n",
       "      <td>452</td>\n",
       "      <td>camping car</td>\n",
       "    </tr>\n",
       "  </tbody>\n",
       "</table>\n",
       "</div>"
      ],
      "text/plain": [
       "                                                   0    1    2    3    4  \\\n",
       "0  /content/drive/My Drive/Test Images/Vehicules5...  277  498  304  511   \n",
       "1  /content/drive/My Drive/Test Images/Vehicules5...  163  403  182  410   \n",
       "2  /content/drive/My Drive/Test Images/Vehicules5...  195  402  218  410   \n",
       "3  /content/drive/My Drive/Test Images/Vehicules5...  297  413  310  434   \n",
       "4  /content/drive/My Drive/Test Images/Vehicules5...  420  440  458  452   \n",
       "\n",
       "             5  \n",
       "0        truck  \n",
       "1          car  \n",
       "2          van  \n",
       "3  camping car  \n",
       "4  camping car  "
      ]
     },
     "execution_count": 14,
     "metadata": {},
     "output_type": "execute_result"
    }
   ],
   "source": [
    "train.head()"
   ]
  },
  {
   "cell_type": "code",
   "execution_count": 15,
   "metadata": {},
   "outputs": [],
   "source": [
    "def new_path(row):\n",
    "    return row.split('ges/')[1]\n",
    "\n",
    "train[0] = train[0].apply(new_path)\n",
    "val[0] = val[0].apply(new_path)"
   ]
  },
  {
   "cell_type": "code",
   "execution_count": 16,
   "metadata": {},
   "outputs": [
    {
     "data": {
      "text/html": [
       "<div>\n",
       "<style scoped>\n",
       "    .dataframe tbody tr th:only-of-type {\n",
       "        vertical-align: middle;\n",
       "    }\n",
       "\n",
       "    .dataframe tbody tr th {\n",
       "        vertical-align: top;\n",
       "    }\n",
       "\n",
       "    .dataframe thead th {\n",
       "        text-align: right;\n",
       "    }\n",
       "</style>\n",
       "<table border=\"1\" class=\"dataframe\">\n",
       "  <thead>\n",
       "    <tr style=\"text-align: right;\">\n",
       "      <th></th>\n",
       "      <th>0</th>\n",
       "      <th>1</th>\n",
       "      <th>2</th>\n",
       "      <th>3</th>\n",
       "      <th>4</th>\n",
       "      <th>5</th>\n",
       "    </tr>\n",
       "  </thead>\n",
       "  <tbody>\n",
       "    <tr>\n",
       "      <th>0</th>\n",
       "      <td>Vehicules512/00000000_co.png</td>\n",
       "      <td>277</td>\n",
       "      <td>498</td>\n",
       "      <td>304</td>\n",
       "      <td>511</td>\n",
       "      <td>truck</td>\n",
       "    </tr>\n",
       "    <tr>\n",
       "      <th>1</th>\n",
       "      <td>Vehicules512/00000001_co.png</td>\n",
       "      <td>163</td>\n",
       "      <td>403</td>\n",
       "      <td>182</td>\n",
       "      <td>410</td>\n",
       "      <td>car</td>\n",
       "    </tr>\n",
       "    <tr>\n",
       "      <th>2</th>\n",
       "      <td>Vehicules512/00000001_co.png</td>\n",
       "      <td>195</td>\n",
       "      <td>402</td>\n",
       "      <td>218</td>\n",
       "      <td>410</td>\n",
       "      <td>van</td>\n",
       "    </tr>\n",
       "    <tr>\n",
       "      <th>3</th>\n",
       "      <td>Vehicules512/00000002_co.png</td>\n",
       "      <td>297</td>\n",
       "      <td>413</td>\n",
       "      <td>310</td>\n",
       "      <td>434</td>\n",
       "      <td>camping car</td>\n",
       "    </tr>\n",
       "    <tr>\n",
       "      <th>4</th>\n",
       "      <td>Vehicules512/00000003_co.png</td>\n",
       "      <td>420</td>\n",
       "      <td>440</td>\n",
       "      <td>458</td>\n",
       "      <td>452</td>\n",
       "      <td>camping car</td>\n",
       "    </tr>\n",
       "  </tbody>\n",
       "</table>\n",
       "</div>"
      ],
      "text/plain": [
       "                              0    1    2    3    4            5\n",
       "0  Vehicules512/00000000_co.png  277  498  304  511        truck\n",
       "1  Vehicules512/00000001_co.png  163  403  182  410          car\n",
       "2  Vehicules512/00000001_co.png  195  402  218  410          van\n",
       "3  Vehicules512/00000002_co.png  297  413  310  434  camping car\n",
       "4  Vehicules512/00000003_co.png  420  440  458  452  camping car"
      ]
     },
     "execution_count": 16,
     "metadata": {},
     "output_type": "execute_result"
    }
   ],
   "source": [
    "train.head()"
   ]
  },
  {
   "cell_type": "code",
   "execution_count": 29,
   "metadata": {},
   "outputs": [],
   "source": [
    "train.loc[train[3] > 512, 3] = 512\n",
    "train.loc[train[4] > 512, 4] = 512\n",
    "train.loc[train[1] < 0, 1] = 0\n",
    "train.loc[train[2] < 0, 2] = 0"
   ]
  },
  {
   "cell_type": "code",
   "execution_count": 33,
   "metadata": {},
   "outputs": [],
   "source": [
    "val.loc[val[3] > 512, 3] = 512\n",
    "val.loc[val[4] > 512, 4] = 512\n",
    "val.loc[val[1] < 0, 1] = 0\n",
    "val.loc[val[2] < 0, 2] = 0"
   ]
  },
  {
   "cell_type": "code",
   "execution_count": 34,
   "metadata": {},
   "outputs": [],
   "source": [
    "train.to_csv(\"vedai-formatted-annotations-train-gpu.csv\", header=None, index=False)\n",
    "val.to_csv(\"vedai-formatted-annotations-val-gpu.csv\", header=None, index=False)"
   ]
  },
  {
   "cell_type": "code",
   "execution_count": null,
   "metadata": {},
   "outputs": [],
   "source": []
  }
 ],
 "metadata": {
  "kernelspec": {
   "display_name": "Python 3",
   "language": "python",
   "name": "python3"
  },
  "language_info": {
   "codemirror_mode": {
    "name": "ipython",
    "version": 3
   },
   "file_extension": ".py",
   "mimetype": "text/x-python",
   "name": "python",
   "nbconvert_exporter": "python",
   "pygments_lexer": "ipython3",
   "version": "3.7.3"
  }
 },
 "nbformat": 4,
 "nbformat_minor": 2
}
