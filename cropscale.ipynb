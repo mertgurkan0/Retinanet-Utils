{
 "cells": [
  {
   "cell_type": "markdown",
   "metadata": {},
   "source": [
    "## Croping & Scaling for the Dataset"
   ]
  },
  {
   "cell_type": "code",
   "execution_count": 1,
   "metadata": {},
   "outputs": [],
   "source": [
    "import pandas as pd\n",
    "import glob\n",
    "from PIL import Image\n",
    "import matplotlib.pyplot as plt\n",
    "import numpy as np\n",
    "import cv2\n",
    "\n",
    "%matplotlib inline"
   ]
  },
  {
   "cell_type": "markdown",
   "metadata": {},
   "source": [
    "### Parameters\n",
    "\n",
    "You can change some of the parameters here, it should not change any functionality\n",
    "\n",
    "> FOLDER_NAME: Name of the folder for new dataset to be created\n",
    ">\n",
    "> XLEN: Final width of images in the dataset\n",
    ">\n",
    "> YLEN: Final height of images in the dataset\n",
    ">\n",
    "> NUM_TILES: # of grids for both axes (eg. if set to 5, each image will first be divided to 5x5 and then will be scaled)\n",
    ">\n",
    "> Both XLEN and YLEN are currently set to 1366 as it is the default maximum value for the RetinaNet"
   ]
  },
  {
   "cell_type": "code",
   "execution_count": 2,
   "metadata": {},
   "outputs": [],
   "source": [
    "FOLDER_NAME = 'cropscaled_images_7/'\n",
    "XLEN = 1333\n",
    "YLEN = 1333\n",
    "NUM_TILES = 7"
   ]
  },
  {
   "cell_type": "markdown",
   "metadata": {},
   "source": [
    "### Cropping and Scaling Function"
   ]
  },
  {
   "cell_type": "code",
   "execution_count": 3,
   "metadata": {},
   "outputs": [],
   "source": [
    "def crop_tiles(img_name, num_tiles, df, x_len, y_len):\n",
    "    \"\"\"\n",
    "    img_name -> file name of the image\n",
    "    num_tiles -> # of grid pieces for both x and y (width and height)\n",
    "    df -> annotations dataframe\n",
    "    x_len -> desired width of the cropped-then-scaled images\n",
    "    y_len -> desired height of the cropped-then-scaled images\n",
    "    \"\"\"\n",
    "    updated_annotations = pd.DataFrame()\n",
    "    anno = df[df[0] == filename]\n",
    "    #print(anno)\n",
    "    img_list = []\n",
    "    img = Image.open(img_name)\n",
    "    width, height = img.size\n",
    "    \n",
    "    new_width = int(width / num_tiles)\n",
    "    new_height = int(height / num_tiles)\n",
    "    \n",
    "    # 0. Scale Ratio\n",
    "    x_scale = x_len / new_width\n",
    "    y_scale = y_len / new_height\n",
    "    \n",
    "    iterx = 0\n",
    "    for i in range(0, width, new_width):\n",
    "        itery = 0\n",
    "        for j in range(0, height, new_height):\n",
    "            if ((i + new_width) <= width) & ((j + new_height) <= height):\n",
    "                #print(f\"iter: {iterx}, x1: {i}, x2: {i + new_width}, y1: {j}, y2: {j + new_height}\")\n",
    "                \n",
    "                # 1. Cropping \n",
    "                crop_box = (i, j, i + new_width, j + new_height)\n",
    "                new_img = img.crop(crop_box)\n",
    "                \n",
    "                # 2. Resizing & Updating Annotations\n",
    "                ##img_list.append(new_img)\n",
    "                new_img = new_img.resize((x_len, y_len))\n",
    "                \n",
    "                matching_annos = anno[(anno[1] > i) & (anno[3] < i + new_width) & (anno[2] > j) & (anno[4] < j + new_height)]\n",
    "                #print(matching_annos)\n",
    "                # update wrt new coords\n",
    "                matching_annos[1] = matching_annos[1] - (new_width * iterx)\n",
    "                matching_annos[3] = matching_annos[3] - (new_width * iterx)\n",
    "                matching_annos[2] = matching_annos[2] - (new_height * itery)\n",
    "                matching_annos[4] = matching_annos[4] - (new_height * itery)\n",
    "                matching_annos[[1, 3]] = matching_annos[[1, 3]] * x_scale\n",
    "                matching_annos[[2, 4]] = matching_annos[[2, 4]] * y_scale\n",
    "                matching_annos[[1, 2, 3, 4]] = matching_annos[[1, 2, 3, 4]].astype(int)\n",
    "                new_filename = FOLDER_NAME + filename.split('\\\\')[1].split('.')[0] + '_' + str(iterx) + '_' + str(itery) + '.png'\n",
    "                matching_annos[0] = new_filename\n",
    "                #print(matching_annos)\n",
    "                updated_annotations = updated_annotations.append(matching_annos)\n",
    "                #print(updated_annotations)\n",
    "                # 3. Saving & Updating Look-up Table\n",
    "                new_img.save(new_filename)\n",
    "                itery += 1\n",
    "        iterx +=1\n",
    "    return updated_annotations"
   ]
  },
  {
   "cell_type": "markdown",
   "metadata": {},
   "source": [
    "### Usage\n",
    "\n",
    "> 0. The initial annotations file should be ready (function used below expects dataframe)\n",
    "> 1. Create an empty dataframe,\n",
    "> 2. Call the function above for all of the images one by one\n",
    "> 3. The function above, `crop_tiles`, divides large images to grids and return their annotations\n",
    "> 4. Fill the empty dataframe with function returns\n",
    "\n",
    "> ! Change the argument for the glob if images are located in another path/folder"
   ]
  },
  {
   "cell_type": "code",
   "execution_count": 4,
   "metadata": {},
   "outputs": [],
   "source": [
    "df = pd.read_csv('xview-formatted-annotations-val-gpu-full8.csv', header = None)"
   ]
  },
  {
   "cell_type": "code",
   "execution_count": 5,
   "metadata": {},
   "outputs": [],
   "source": [
    "### SOME BORING PREPROCESSING FOR FILENAMES ###\n",
    "### YOU CAN SKIP IF NOT NEEDED ###\n",
    "def get_imgname(row):\n",
    "    return row.split('/')[1]\n",
    "def pathfix(row):\n",
    "    return 'sample\\\\' + row"
   ]
  },
  {
   "cell_type": "code",
   "execution_count": 6,
   "metadata": {},
   "outputs": [],
   "source": [
    "tifs = glob.glob('sample\\*.tif')\n",
    "imglist = []\n",
    "for tif in tifs:\n",
    "    imglist.append(tif.split('\\\\')[1])\n",
    "\n",
    "df['imgname'] = df[0].apply(get_imgname)\n",
    "df = df[df['imgname'].isin(imglist)]\n",
    "\n",
    "df[0] = df['imgname'].apply(pathfix)\n",
    "df.drop('imgname', axis = 1, inplace = True)\n",
    "### SOME BORING PREPROCESSING FOR FILENAMES -- END -- ###"
   ]
  },
  {
   "cell_type": "code",
   "execution_count": 7,
   "metadata": {},
   "outputs": [
    {
     "data": {
      "text/html": [
       "<div>\n",
       "<style scoped>\n",
       "    .dataframe tbody tr th:only-of-type {\n",
       "        vertical-align: middle;\n",
       "    }\n",
       "\n",
       "    .dataframe tbody tr th {\n",
       "        vertical-align: top;\n",
       "    }\n",
       "\n",
       "    .dataframe thead th {\n",
       "        text-align: right;\n",
       "    }\n",
       "</style>\n",
       "<table border=\"1\" class=\"dataframe\">\n",
       "  <thead>\n",
       "    <tr style=\"text-align: right;\">\n",
       "      <th></th>\n",
       "      <th>0</th>\n",
       "      <th>1</th>\n",
       "      <th>2</th>\n",
       "      <th>3</th>\n",
       "      <th>4</th>\n",
       "      <th>5</th>\n",
       "    </tr>\n",
       "  </thead>\n",
       "  <tbody>\n",
       "    <tr>\n",
       "      <th>0</th>\n",
       "      <td>sample\\100.tif</td>\n",
       "      <td>22</td>\n",
       "      <td>869</td>\n",
       "      <td>33</td>\n",
       "      <td>881</td>\n",
       "      <td>small_car</td>\n",
       "    </tr>\n",
       "    <tr>\n",
       "      <th>1</th>\n",
       "      <td>sample\\100.tif</td>\n",
       "      <td>5</td>\n",
       "      <td>2075</td>\n",
       "      <td>12</td>\n",
       "      <td>2085</td>\n",
       "      <td>small_car</td>\n",
       "    </tr>\n",
       "    <tr>\n",
       "      <th>2</th>\n",
       "      <td>sample\\100.tif</td>\n",
       "      <td>3</td>\n",
       "      <td>2341</td>\n",
       "      <td>14</td>\n",
       "      <td>2353</td>\n",
       "      <td>small_car</td>\n",
       "    </tr>\n",
       "    <tr>\n",
       "      <th>3</th>\n",
       "      <td>sample\\100.tif</td>\n",
       "      <td>2</td>\n",
       "      <td>2410</td>\n",
       "      <td>16</td>\n",
       "      <td>2421</td>\n",
       "      <td>small_car</td>\n",
       "    </tr>\n",
       "    <tr>\n",
       "      <th>4</th>\n",
       "      <td>sample\\100.tif</td>\n",
       "      <td>90</td>\n",
       "      <td>1070</td>\n",
       "      <td>102</td>\n",
       "      <td>1084</td>\n",
       "      <td>small_car</td>\n",
       "    </tr>\n",
       "  </tbody>\n",
       "</table>\n",
       "</div>"
      ],
      "text/plain": [
       "                0   1     2    3     4          5\n",
       "0  sample\\100.tif  22   869   33   881  small_car\n",
       "1  sample\\100.tif   5  2075   12  2085  small_car\n",
       "2  sample\\100.tif   3  2341   14  2353  small_car\n",
       "3  sample\\100.tif   2  2410   16  2421  small_car\n",
       "4  sample\\100.tif  90  1070  102  1084  small_car"
      ]
     },
     "execution_count": 7,
     "metadata": {},
     "output_type": "execute_result"
    }
   ],
   "source": [
    "df.head()"
   ]
  },
  {
   "cell_type": "code",
   "execution_count": 8,
   "metadata": {},
   "outputs": [
    {
     "name": "stderr",
     "output_type": "stream",
     "text": [
      "C:\\Users\\bavlab0001\\AppData\\Local\\Continuum\\anaconda3\\lib\\site-packages\\ipykernel_launcher.py:41: SettingWithCopyWarning: \n",
      "A value is trying to be set on a copy of a slice from a DataFrame.\n",
      "Try using .loc[row_indexer,col_indexer] = value instead\n",
      "\n",
      "See the caveats in the documentation: https://pandas.pydata.org/pandas-docs/stable/user_guide/indexing.html#returning-a-view-versus-a-copy\n",
      "C:\\Users\\bavlab0001\\AppData\\Local\\Continuum\\anaconda3\\lib\\site-packages\\ipykernel_launcher.py:42: SettingWithCopyWarning: \n",
      "A value is trying to be set on a copy of a slice from a DataFrame.\n",
      "Try using .loc[row_indexer,col_indexer] = value instead\n",
      "\n",
      "See the caveats in the documentation: https://pandas.pydata.org/pandas-docs/stable/user_guide/indexing.html#returning-a-view-versus-a-copy\n",
      "C:\\Users\\bavlab0001\\AppData\\Local\\Continuum\\anaconda3\\lib\\site-packages\\ipykernel_launcher.py:43: SettingWithCopyWarning: \n",
      "A value is trying to be set on a copy of a slice from a DataFrame.\n",
      "Try using .loc[row_indexer,col_indexer] = value instead\n",
      "\n",
      "See the caveats in the documentation: https://pandas.pydata.org/pandas-docs/stable/user_guide/indexing.html#returning-a-view-versus-a-copy\n",
      "C:\\Users\\bavlab0001\\AppData\\Local\\Continuum\\anaconda3\\lib\\site-packages\\ipykernel_launcher.py:44: SettingWithCopyWarning: \n",
      "A value is trying to be set on a copy of a slice from a DataFrame.\n",
      "Try using .loc[row_indexer,col_indexer] = value instead\n",
      "\n",
      "See the caveats in the documentation: https://pandas.pydata.org/pandas-docs/stable/user_guide/indexing.html#returning-a-view-versus-a-copy\n",
      "C:\\Users\\bavlab0001\\AppData\\Local\\Continuum\\anaconda3\\lib\\site-packages\\pandas\\core\\frame.py:2963: SettingWithCopyWarning: \n",
      "A value is trying to be set on a copy of a slice from a DataFrame.\n",
      "Try using .loc[row_indexer,col_indexer] = value instead\n",
      "\n",
      "See the caveats in the documentation: https://pandas.pydata.org/pandas-docs/stable/user_guide/indexing.html#returning-a-view-versus-a-copy\n",
      "  self[k1] = value[k2]\n",
      "C:\\Users\\bavlab0001\\AppData\\Local\\Continuum\\anaconda3\\lib\\site-packages\\ipykernel_launcher.py:49: SettingWithCopyWarning: \n",
      "A value is trying to be set on a copy of a slice from a DataFrame.\n",
      "Try using .loc[row_indexer,col_indexer] = value instead\n",
      "\n",
      "See the caveats in the documentation: https://pandas.pydata.org/pandas-docs/stable/user_guide/indexing.html#returning-a-view-versus-a-copy\n"
     ]
    }
   ],
   "source": [
    "## FUNCTION IS USED HERE\n",
    "annotations = pd.DataFrame()\n",
    "for filename in glob.glob('sample/*.tif'):\n",
    "    #print(filename)\n",
    "    #print(df[df[0] == filename])\n",
    "    annotations = annotations.append(crop_tiles(filename, NUM_TILES, df, XLEN, YLEN))"
   ]
  },
  {
   "cell_type": "code",
   "execution_count": 9,
   "metadata": {},
   "outputs": [],
   "source": [
    "## DONT FORGET TO SAVE THE ANNOTATIONS\n",
    "annotations.to_csv(\"cropscale_sample_7.csv\", index = False, header = False)"
   ]
  },
  {
   "cell_type": "code",
   "execution_count": 10,
   "metadata": {},
   "outputs": [
    {
     "data": {
      "text/html": [
       "<div>\n",
       "<style scoped>\n",
       "    .dataframe tbody tr th:only-of-type {\n",
       "        vertical-align: middle;\n",
       "    }\n",
       "\n",
       "    .dataframe tbody tr th {\n",
       "        vertical-align: top;\n",
       "    }\n",
       "\n",
       "    .dataframe thead th {\n",
       "        text-align: right;\n",
       "    }\n",
       "</style>\n",
       "<table border=\"1\" class=\"dataframe\">\n",
       "  <thead>\n",
       "    <tr style=\"text-align: right;\">\n",
       "      <th></th>\n",
       "      <th>0</th>\n",
       "      <th>1</th>\n",
       "      <th>2</th>\n",
       "      <th>3</th>\n",
       "      <th>4</th>\n",
       "      <th>5</th>\n",
       "    </tr>\n",
       "  </thead>\n",
       "  <tbody>\n",
       "    <tr>\n",
       "      <th>0</th>\n",
       "      <td>cropscaled_images_7/100_0_2.png</td>\n",
       "      <td>60</td>\n",
       "      <td>327</td>\n",
       "      <td>91</td>\n",
       "      <td>368</td>\n",
       "      <td>small_car</td>\n",
       "    </tr>\n",
       "    <tr>\n",
       "      <th>4</th>\n",
       "      <td>cropscaled_images_7/100_0_2.png</td>\n",
       "      <td>248</td>\n",
       "      <td>1019</td>\n",
       "      <td>282</td>\n",
       "      <td>1067</td>\n",
       "      <td>small_car</td>\n",
       "    </tr>\n",
       "    <tr>\n",
       "      <th>5</th>\n",
       "      <td>cropscaled_images_7/100_0_2.png</td>\n",
       "      <td>271</td>\n",
       "      <td>1023</td>\n",
       "      <td>295</td>\n",
       "      <td>1060</td>\n",
       "      <td>small_car</td>\n",
       "    </tr>\n",
       "    <tr>\n",
       "      <th>6</th>\n",
       "      <td>cropscaled_images_7/100_0_4.png</td>\n",
       "      <td>135</td>\n",
       "      <td>585</td>\n",
       "      <td>176</td>\n",
       "      <td>616</td>\n",
       "      <td>small_car</td>\n",
       "    </tr>\n",
       "    <tr>\n",
       "      <th>7</th>\n",
       "      <td>cropscaled_images_7/100_0_4.png</td>\n",
       "      <td>121</td>\n",
       "      <td>1153</td>\n",
       "      <td>157</td>\n",
       "      <td>1202</td>\n",
       "      <td>small_car</td>\n",
       "    </tr>\n",
       "  </tbody>\n",
       "</table>\n",
       "</div>"
      ],
      "text/plain": [
       "                                 0    1     2    3     4          5\n",
       "0  cropscaled_images_7/100_0_2.png   60   327   91   368  small_car\n",
       "4  cropscaled_images_7/100_0_2.png  248  1019  282  1067  small_car\n",
       "5  cropscaled_images_7/100_0_2.png  271  1023  295  1060  small_car\n",
       "6  cropscaled_images_7/100_0_4.png  135   585  176   616  small_car\n",
       "7  cropscaled_images_7/100_0_4.png  121  1153  157  1202  small_car"
      ]
     },
     "execution_count": 10,
     "metadata": {},
     "output_type": "execute_result"
    }
   ],
   "source": [
    "annotations.head()"
   ]
  },
  {
   "cell_type": "code",
   "execution_count": 11,
   "metadata": {},
   "outputs": [],
   "source": [
    "xlist = annotations[3] - annotations[1]"
   ]
  },
  {
   "cell_type": "code",
   "execution_count": 12,
   "metadata": {},
   "outputs": [
    {
     "data": {
      "text/plain": [
       "0.8386212991604065"
      ]
     },
     "execution_count": 12,
     "metadata": {},
     "output_type": "execute_result"
    }
   ],
   "source": [
    "xli = np.array(xlist)\n",
    "xli[xli > 29].shape[0] / xli.shape[0]"
   ]
  },
  {
   "cell_type": "code",
   "execution_count": 13,
   "metadata": {},
   "outputs": [
    {
     "data": {
      "text/plain": [
       "0.924259832081308"
      ]
     },
     "execution_count": 13,
     "metadata": {},
     "output_type": "execute_result"
    }
   ],
   "source": [
    "ylist = annotations[4] - annotations[2]\n",
    "yli = np.array(ylist)\n",
    "yli[yli > 29].shape[0] / yli.shape[0]"
   ]
  },
  {
   "cell_type": "markdown",
   "metadata": {},
   "source": [
    "#### Creating Annotated Images\n",
    "\n",
    "This is optional, but can be used for checking the correctness of the operations.\n",
    "\n",
    "Will create a new folder with annotated images in it.\n",
    "\n",
    "(Run it after establishing the cropped images)"
   ]
  },
  {
   "cell_type": "code",
   "execution_count": 14,
   "metadata": {},
   "outputs": [],
   "source": [
    "for filename in glob.glob(FOLDER_NAME + '*.png'):\n",
    "    img = Image.open(filename)\n",
    "    img = np.array(img)\n",
    "    matches = annotations[annotations[0] == filename.replace('\\\\', '/')]\n",
    "    for index, row in matches.iterrows():\n",
    "        cv2.rectangle(img,(int(row[1]),int(row[2])),(int(row[3]),int(row[4])),(0,0,255),4)\n",
    "        \n",
    "    anno_img = Image.fromarray(img)\n",
    "    anno_img.save('annotated_cropscaled_7/' + filename.split('\\\\')[1])"
   ]
  },
  {
   "cell_type": "code",
   "execution_count": null,
   "metadata": {},
   "outputs": [],
   "source": []
  }
 ],
 "metadata": {
  "kernelspec": {
   "display_name": "Python 3",
   "language": "python",
   "name": "python3"
  },
  "language_info": {
   "codemirror_mode": {
    "name": "ipython",
    "version": 3
   },
   "file_extension": ".py",
   "mimetype": "text/x-python",
   "name": "python",
   "nbconvert_exporter": "python",
   "pygments_lexer": "ipython3",
   "version": "3.7.3"
  }
 },
 "nbformat": 4,
 "nbformat_minor": 2
}
