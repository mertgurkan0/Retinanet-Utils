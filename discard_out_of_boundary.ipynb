{
 "cells": [
  {
   "cell_type": "code",
   "execution_count": 10,
   "metadata": {},
   "outputs": [],
   "source": [
    "import pandas as pd\n",
    "from PIL import Image\n",
    "import glob"
   ]
  },
  {
   "cell_type": "code",
   "execution_count": 2,
   "metadata": {},
   "outputs": [],
   "source": [
    "df = pd.read_csv('vedai-formatted-annotations-train.csv', header=None)"
   ]
  },
  {
   "cell_type": "code",
   "execution_count": 3,
   "metadata": {},
   "outputs": [
    {
     "data": {
      "text/html": [
       "<div>\n",
       "<style scoped>\n",
       "    .dataframe tbody tr th:only-of-type {\n",
       "        vertical-align: middle;\n",
       "    }\n",
       "\n",
       "    .dataframe tbody tr th {\n",
       "        vertical-align: top;\n",
       "    }\n",
       "\n",
       "    .dataframe thead th {\n",
       "        text-align: right;\n",
       "    }\n",
       "</style>\n",
       "<table border=\"1\" class=\"dataframe\">\n",
       "  <thead>\n",
       "    <tr style=\"text-align: right;\">\n",
       "      <th></th>\n",
       "      <th>0</th>\n",
       "      <th>1</th>\n",
       "      <th>2</th>\n",
       "      <th>3</th>\n",
       "      <th>4</th>\n",
       "      <th>5</th>\n",
       "    </tr>\n",
       "  </thead>\n",
       "  <tbody>\n",
       "    <tr>\n",
       "      <th>0</th>\n",
       "      <td>/content/drive/My Drive/Test Images/Vehicules5...</td>\n",
       "      <td>277</td>\n",
       "      <td>498</td>\n",
       "      <td>304</td>\n",
       "      <td>511</td>\n",
       "      <td>truck</td>\n",
       "    </tr>\n",
       "    <tr>\n",
       "      <th>1</th>\n",
       "      <td>/content/drive/My Drive/Test Images/Vehicules5...</td>\n",
       "      <td>163</td>\n",
       "      <td>403</td>\n",
       "      <td>182</td>\n",
       "      <td>410</td>\n",
       "      <td>car</td>\n",
       "    </tr>\n",
       "    <tr>\n",
       "      <th>2</th>\n",
       "      <td>/content/drive/My Drive/Test Images/Vehicules5...</td>\n",
       "      <td>195</td>\n",
       "      <td>402</td>\n",
       "      <td>218</td>\n",
       "      <td>410</td>\n",
       "      <td>van</td>\n",
       "    </tr>\n",
       "    <tr>\n",
       "      <th>3</th>\n",
       "      <td>/content/drive/My Drive/Test Images/Vehicules5...</td>\n",
       "      <td>297</td>\n",
       "      <td>413</td>\n",
       "      <td>310</td>\n",
       "      <td>434</td>\n",
       "      <td>camping car</td>\n",
       "    </tr>\n",
       "    <tr>\n",
       "      <th>4</th>\n",
       "      <td>/content/drive/My Drive/Test Images/Vehicules5...</td>\n",
       "      <td>420</td>\n",
       "      <td>440</td>\n",
       "      <td>458</td>\n",
       "      <td>452</td>\n",
       "      <td>camping car</td>\n",
       "    </tr>\n",
       "  </tbody>\n",
       "</table>\n",
       "</div>"
      ],
      "text/plain": [
       "                                                   0    1    2    3    4  \\\n",
       "0  /content/drive/My Drive/Test Images/Vehicules5...  277  498  304  511   \n",
       "1  /content/drive/My Drive/Test Images/Vehicules5...  163  403  182  410   \n",
       "2  /content/drive/My Drive/Test Images/Vehicules5...  195  402  218  410   \n",
       "3  /content/drive/My Drive/Test Images/Vehicules5...  297  413  310  434   \n",
       "4  /content/drive/My Drive/Test Images/Vehicules5...  420  440  458  452   \n",
       "\n",
       "             5  \n",
       "0        truck  \n",
       "1          car  \n",
       "2          van  \n",
       "3  camping car  \n",
       "4  camping car  "
      ]
     },
     "execution_count": 3,
     "metadata": {},
     "output_type": "execute_result"
    }
   ],
   "source": [
    "# Showing the format of the dataframe I have at hand\n",
    "df.head()"
   ]
  },
  {
   "cell_type": "markdown",
   "metadata": {},
   "source": [
    "### Notes about the script\n",
    "\n",
    "> 1. It reads all images in the given path (folder) because shapes of images may vary\n",
    "> 2. Due to 1. you need to pass the absolute path, /*.png makes it only get files with png extensions. I think you need .tiff\n",
    "> 3. I believe Pillow library can work with .tiff extensions, it should not be a problem\n",
    "> 4. The loop checks annotations present for each image and discards these annotations if they either include **negative values** or **values exceeding the size of the image**\n",
    "> 5. Lastly, my csv file did not have header names. Because of this my columns are numbered. If you have pre-existing header names please change the (0, 1, 2, 3, 4) columns in the script accordingly.\n",
    "\n",
    ">  **!** Please check & change the absolute paths I am passing here, other than these code should not require any major change."
   ]
  },
  {
   "cell_type": "code",
   "execution_count": null,
   "metadata": {},
   "outputs": [],
   "source": [
    "## Pass the path of the folder containing images, and change the image extenstion if needed\n",
    "for filename in glob.glob('Vehicules512/*.png'): \n",
    "    img = Image.open(filename)\n",
    "    width, height = img.size\n",
    "    \n",
    "    # All conditions are checked below for all 4 coordinates (xmin, ymin, xmax, ymax)\n",
    "    df = df.drop(df[(df[0] == filename) & ((df[1] < 0) | (df[1] > width))].index)\n",
    "    df = df.drop(df[(df[0] == filename) & ((df[2] < 0) | (df[2] > height))].index)\n",
    "    df = df.drop(df[(df[0] == filename) & ((df[3] < 0) | (df[3] > width))].index)\n",
    "    df = df.drop(df[(df[0] == filename) & ((df[4] < 0) | (df[4] > height))].index)"
   ]
  },
  {
   "cell_type": "markdown",
   "metadata": {},
   "source": [
    "> For the returning annotations dataframe, you can print it to csv using `to_csv()` function"
   ]
  },
  {
   "cell_type": "code",
   "execution_count": null,
   "metadata": {},
   "outputs": [],
   "source": []
  }
 ],
 "metadata": {
  "kernelspec": {
   "display_name": "Python 3",
   "language": "python",
   "name": "python3"
  },
  "language_info": {
   "codemirror_mode": {
    "name": "ipython",
    "version": 3
   },
   "file_extension": ".py",
   "mimetype": "text/x-python",
   "name": "python",
   "nbconvert_exporter": "python",
   "pygments_lexer": "ipython3",
   "version": "3.7.3"
  }
 },
 "nbformat": 4,
 "nbformat_minor": 2
}
