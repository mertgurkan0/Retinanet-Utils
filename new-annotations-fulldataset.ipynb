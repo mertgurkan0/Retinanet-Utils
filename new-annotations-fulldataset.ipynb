{
 "cells": [
  {
   "cell_type": "code",
   "execution_count": 103,
   "metadata": {},
   "outputs": [],
   "source": [
    "import pandas as pd\n",
    "import os\n",
    "import numpy as np"
   ]
  },
  {
   "cell_type": "code",
   "execution_count": 104,
   "metadata": {},
   "outputs": [],
   "source": [
    "anno = pd.read_csv(r'C:\\Users\\bavlab0001\\Downloads\\Annotations1024\\annotation1024.txt', \n",
    "                   header = None, sep = '\\s+', dtype=str)"
   ]
  },
  {
   "cell_type": "code",
   "execution_count": 105,
   "metadata": {},
   "outputs": [],
   "source": [
    "anno[[4,5,6,7,8,9,10,11]] = anno[[4,5,6,7,8,9,10,11]].astype(int) \n",
    "xmin = anno[[4,5,6,7]].min(axis=1)\n",
    "xmax = anno[[4,5,6,7]].max(axis=1)\n",
    "ymin = anno[[8,9,10,11]].min(axis=1)\n",
    "ymax = anno[[8,9,10,11]].max(axis=1)\n",
    "img_name = anno[0]\n",
    "label = anno[12]\n",
    "lst = list(zip(img_name, xmin, ymin, xmax, ymax, label))"
   ]
  },
  {
   "cell_type": "code",
   "execution_count": 106,
   "metadata": {},
   "outputs": [],
   "source": [
    "df = pd.DataFrame(lst,\n",
    "                columns = ['img', 'xmin', 'ymin', 'xmax', 'ymax', 'label'])"
   ]
  },
  {
   "cell_type": "code",
   "execution_count": 107,
   "metadata": {},
   "outputs": [
    {
     "data": {
      "text/html": [
       "<div>\n",
       "<style scoped>\n",
       "    .dataframe tbody tr th:only-of-type {\n",
       "        vertical-align: middle;\n",
       "    }\n",
       "\n",
       "    .dataframe tbody tr th {\n",
       "        vertical-align: top;\n",
       "    }\n",
       "\n",
       "    .dataframe thead th {\n",
       "        text-align: right;\n",
       "    }\n",
       "</style>\n",
       "<table border=\"1\" class=\"dataframe\">\n",
       "  <thead>\n",
       "    <tr style=\"text-align: right;\">\n",
       "      <th></th>\n",
       "      <th>img</th>\n",
       "      <th>xmin</th>\n",
       "      <th>ymin</th>\n",
       "      <th>xmax</th>\n",
       "      <th>ymax</th>\n",
       "      <th>label</th>\n",
       "    </tr>\n",
       "  </thead>\n",
       "  <tbody>\n",
       "  </tbody>\n",
       "</table>\n",
       "</div>"
      ],
      "text/plain": [
       "Empty DataFrame\n",
       "Columns: [img, xmin, ymin, xmax, ymax, label]\n",
       "Index: []"
      ]
     },
     "execution_count": 107,
     "metadata": {},
     "output_type": "execute_result"
    }
   ],
   "source": [
    "df[df['xmin'] > df['xmax']]"
   ]
  },
  {
   "cell_type": "code",
   "execution_count": 108,
   "metadata": {},
   "outputs": [],
   "source": [
    "### Creating the necessary annotations format\n",
    "## 1. Replacing the label class placeholders\n",
    "df['label'] = df['label'].replace({'002': 'truck', '001': 'car',\n",
    "                         '009': 'van', '005':'camping car',\n",
    "                         '011': 'pick-up', '004':'tractor',\n",
    "                         '010': 'other car', '023': 'boat', \n",
    "                         '031': 'plane', '008': 'bus', '007': 'motorcycle'})"
   ]
  },
  {
   "cell_type": "code",
   "execution_count": 109,
   "metadata": {},
   "outputs": [],
   "source": [
    "## Fixing first column to add image extension\n",
    "#'/content', 'drive', 'My Drive', 'Test Images'\n",
    "# Change the end of the path to 512/1204 when needed\n",
    "def add_extension_color(img_name):\n",
    "    return ('/content/drive/My Drive/Test Images/Vehicules1024/' + img_name + '_co.png')\n",
    "\n",
    "# for infra-red images\n",
    "def add_extension_ir(img_name):\n",
    "    return ('/content/drive/My Drive/Test Images/Vehicules1024/' + img_name + '_ir.png')"
   ]
  },
  {
   "cell_type": "code",
   "execution_count": 110,
   "metadata": {},
   "outputs": [],
   "source": [
    "# applying to coulmn\n",
    "df['img'] = df['img'].apply(add_extension_color)"
   ]
  },
  {
   "cell_type": "code",
   "execution_count": 111,
   "metadata": {},
   "outputs": [],
   "source": [
    "df[['xmin', 'ymin', 'xmax', 'ymax']] = df[['xmin', 'ymin', 'xmax', 'ymax']].astype(int)"
   ]
  },
  {
   "cell_type": "code",
   "execution_count": 112,
   "metadata": {},
   "outputs": [
    {
     "data": {
      "text/plain": [
       "(3757, 6)"
      ]
     },
     "execution_count": 112,
     "metadata": {},
     "output_type": "execute_result"
    }
   ],
   "source": [
    "df.shape"
   ]
  },
  {
   "cell_type": "code",
   "execution_count": 113,
   "metadata": {},
   "outputs": [],
   "source": [
    "df_train = df.iloc[:3000]\n",
    "df_val= df.iloc[3000:]"
   ]
  },
  {
   "cell_type": "code",
   "execution_count": 114,
   "metadata": {},
   "outputs": [],
   "source": [
    "df_train.to_csv('vedai-formatted-annotations-train-full-1024.csv', sep=',', header=None, index=None)\n",
    "df_val.to_csv('vedai-formatted-annotations-val-full-1024.csv', sep=',', header=None, index=None)"
   ]
  },
  {
   "cell_type": "code",
   "execution_count": 115,
   "metadata": {},
   "outputs": [],
   "source": [
    "train = pd.read_csv('vedai-formatted-annotations-train-full-1024.csv', header=None)\n",
    "val = pd.read_csv('vedai-formatted-annotations-val-full-1024.csv', header=None)"
   ]
  },
  {
   "cell_type": "code",
   "execution_count": 116,
   "metadata": {},
   "outputs": [],
   "source": [
    "def new_path(row):\n",
    "    return row.split('ges/')[1]\n",
    "\n",
    "train[0] = train[0].apply(new_path)\n",
    "val[0] = val[0].apply(new_path)"
   ]
  },
  {
   "cell_type": "code",
   "execution_count": 117,
   "metadata": {},
   "outputs": [],
   "source": [
    "## Change the value to 512 and 1024 when needed\n",
    "train.loc[train[3] > 1024, 3] = 1024\n",
    "train.loc[train[4] > 1024, 4] = 1024\n",
    "train.loc[train[1] < 0, 1] = 0\n",
    "train.loc[train[2] < 0, 2] = 0"
   ]
  },
  {
   "cell_type": "code",
   "execution_count": 118,
   "metadata": {},
   "outputs": [],
   "source": [
    "val.loc[val[3] > 1024, 3] = 1024\n",
    "val.loc[val[4] > 1024, 4] = 1024\n",
    "val.loc[val[1] < 0, 1] = 0\n",
    "val.loc[val[2] < 0, 2] = 0"
   ]
  },
  {
   "cell_type": "code",
   "execution_count": 119,
   "metadata": {},
   "outputs": [],
   "source": [
    "train.to_csv(\"vedai-formatted-annotations-train-gpu-full-1024.csv\", header=None, index=False)\n",
    "val.to_csv(\"vedai-formatted-annotations-val-gpu-full-1024.csv\", header=None, index=False)"
   ]
  },
  {
   "cell_type": "code",
   "execution_count": 120,
   "metadata": {},
   "outputs": [],
   "source": [
    "### --------------------- ###"
   ]
  },
  {
   "cell_type": "code",
   "execution_count": 121,
   "metadata": {},
   "outputs": [
    {
     "data": {
      "text/html": [
       "<div>\n",
       "<style scoped>\n",
       "    .dataframe tbody tr th:only-of-type {\n",
       "        vertical-align: middle;\n",
       "    }\n",
       "\n",
       "    .dataframe tbody tr th {\n",
       "        vertical-align: top;\n",
       "    }\n",
       "\n",
       "    .dataframe thead th {\n",
       "        text-align: right;\n",
       "    }\n",
       "</style>\n",
       "<table border=\"1\" class=\"dataframe\">\n",
       "  <thead>\n",
       "    <tr style=\"text-align: right;\">\n",
       "      <th></th>\n",
       "      <th>0</th>\n",
       "      <th>1</th>\n",
       "      <th>2</th>\n",
       "      <th>3</th>\n",
       "      <th>4</th>\n",
       "      <th>5</th>\n",
       "    </tr>\n",
       "  </thead>\n",
       "  <tbody>\n",
       "    <tr>\n",
       "      <th>0</th>\n",
       "      <td>Vehicules1024/00000000_co.png</td>\n",
       "      <td>554</td>\n",
       "      <td>996</td>\n",
       "      <td>607</td>\n",
       "      <td>1021</td>\n",
       "      <td>truck</td>\n",
       "    </tr>\n",
       "    <tr>\n",
       "      <th>1</th>\n",
       "      <td>Vehicules1024/00000001_co.png</td>\n",
       "      <td>326</td>\n",
       "      <td>805</td>\n",
       "      <td>363</td>\n",
       "      <td>819</td>\n",
       "      <td>car</td>\n",
       "    </tr>\n",
       "    <tr>\n",
       "      <th>2</th>\n",
       "      <td>Vehicules1024/00000001_co.png</td>\n",
       "      <td>390</td>\n",
       "      <td>803</td>\n",
       "      <td>435</td>\n",
       "      <td>819</td>\n",
       "      <td>van</td>\n",
       "    </tr>\n",
       "    <tr>\n",
       "      <th>3</th>\n",
       "      <td>Vehicules1024/00000002_co.png</td>\n",
       "      <td>593</td>\n",
       "      <td>826</td>\n",
       "      <td>620</td>\n",
       "      <td>867</td>\n",
       "      <td>camping car</td>\n",
       "    </tr>\n",
       "    <tr>\n",
       "      <th>4</th>\n",
       "      <td>Vehicules1024/00000003_co.png</td>\n",
       "      <td>839</td>\n",
       "      <td>880</td>\n",
       "      <td>915</td>\n",
       "      <td>903</td>\n",
       "      <td>camping car</td>\n",
       "    </tr>\n",
       "  </tbody>\n",
       "</table>\n",
       "</div>"
      ],
      "text/plain": [
       "                               0    1    2    3     4            5\n",
       "0  Vehicules1024/00000000_co.png  554  996  607  1021        truck\n",
       "1  Vehicules1024/00000001_co.png  326  805  363   819          car\n",
       "2  Vehicules1024/00000001_co.png  390  803  435   819          van\n",
       "3  Vehicules1024/00000002_co.png  593  826  620   867  camping car\n",
       "4  Vehicules1024/00000003_co.png  839  880  915   903  camping car"
      ]
     },
     "execution_count": 121,
     "metadata": {},
     "output_type": "execute_result"
    }
   ],
   "source": [
    "train.head()"
   ]
  },
  {
   "cell_type": "code",
   "execution_count": null,
   "metadata": {},
   "outputs": [],
   "source": []
  }
 ],
 "metadata": {
  "kernelspec": {
   "display_name": "Python 3",
   "language": "python",
   "name": "python3"
  },
  "language_info": {
   "codemirror_mode": {
    "name": "ipython",
    "version": 3
   },
   "file_extension": ".py",
   "mimetype": "text/x-python",
   "name": "python",
   "nbconvert_exporter": "python",
   "pygments_lexer": "ipython3",
   "version": "3.7.3"
  }
 },
 "nbformat": 4,
 "nbformat_minor": 2
}
